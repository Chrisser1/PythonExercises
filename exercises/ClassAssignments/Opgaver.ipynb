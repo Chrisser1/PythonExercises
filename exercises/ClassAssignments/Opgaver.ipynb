{
 "cells": [
  {
   "cell_type": "code",
   "execution_count": 5,
   "metadata": {},
   "outputs": [
    {
     "name": "stdout",
     "output_type": "stream",
     "text": [
      "[0, 2, 4, 6, 8, 10, 12, 14, 16, 18, 20]\n"
     ]
    }
   ],
   "source": [
    "l = []\n",
    "længde = 20\n",
    "for i in range(længde+2):\n",
    "  if i%2 == 0:\n",
    "    l.append(i)\n",
    "print(l)"
   ]
  },
  {
   "cell_type": "code",
   "execution_count": 13,
   "metadata": {},
   "outputs": [
    {
     "name": "stdout",
     "output_type": "stream",
     "text": [
      "[0, 1, 1, 2, 3, 5, 8, 13, 21, 34, 55, 89, 144, 233, 377, 610, 987]\n"
     ]
    }
   ],
   "source": [
    "a, b = 0, 1\n",
    "amax = 1000\n",
    "L = [0]\n",
    "\n",
    "while True:\n",
    "  a,b = b,a + b\n",
    "  if a > amax:\n",
    "    break\n",
    "  L.append(a)\n",
    "\n",
    "print(L)"
   ]
  },
  {
   "cell_type": "code",
   "execution_count": 26,
   "metadata": {},
   "outputs": [
    {
     "name": "stdout",
     "output_type": "stream",
     "text": [
      "0.25363636318536675\n",
      "0.966276938946542\n",
      "0.8117025733722877\n",
      "0.1754272259023455\n",
      "0.10685709621833961\n",
      "0.9687080682874011\n",
      "0.48450150133401026\n",
      "0.5832143024490967\n",
      "0.05442044914611999\n",
      "0.8801028854197538\n"
     ]
    }
   ],
   "source": [
    "from random import random, seed\n",
    "\n",
    "for _ in range(10):\n",
    "\tvalue = random()\n",
    "\tprint(value)\n"
   ]
  }
 ],
 "metadata": {
  "kernelspec": {
   "display_name": "Python 3.10.6 64-bit (windows store)",
   "language": "python",
   "name": "python3"
  },
  "language_info": {
   "codemirror_mode": {
    "name": "ipython",
    "version": 3
   },
   "file_extension": ".py",
   "mimetype": "text/x-python",
   "name": "python",
   "nbconvert_exporter": "python",
   "pygments_lexer": "ipython3",
   "version": "3.10.6"
  },
  "orig_nbformat": 4,
  "vscode": {
   "interpreter": {
    "hash": "aa82987a71ca0339a52998cd22613b0c002bda8349fa32a0cb67ceec3936a2bf"
   }
  }
 },
 "nbformat": 4,
 "nbformat_minor": 2
}
