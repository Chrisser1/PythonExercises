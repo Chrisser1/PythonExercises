{
 "cells": [
  {
   "cell_type": "code",
   "execution_count": 2,
   "metadata": {},
   "outputs": [
    {
     "name": "stdout",
     "output_type": "stream",
     "text": [
      "a |\n",
      "x-koordinatet er: 3\n",
      "y-koordinatet er: 4\n",
      "z-koordinatet er: 2\n",
      "Afstand til origo 5.385164807134504 \n",
      "\n",
      "a |\n",
      "x-koordinatet er: 2\n",
      "y-koordinatet er: 1\n",
      "z-koordinatet er: 3\n",
      "Afstand til origo 3.7416573867739413 \n",
      "\n",
      "Endepunkter er: 3 1\n",
      "Linjens længde er: 3.3166247903554\n"
     ]
    }
   ],
   "source": [
    "from math import sqrt\n",
    "\n",
    "#Punkter i 3D\n",
    "class Punkt3D:\n",
    "  def __init__(self,x,y,z,navn=\"a\"):\n",
    "    self.x = x\n",
    "    self.y = y\n",
    "    self.z = z\n",
    "    self.navn = navn\n",
    "\n",
    "  def navn_på_punkter(self):\n",
    "    print(punkta.navn,\"|\")\n",
    "\n",
    "  def udskriv_koordinater(self):\n",
    "    print(\"x-koordinatet er:\", self.x)\n",
    "    print(\"y-koordinatet er:\", self.y)\n",
    "    print(\"z-koordinatet er:\", self.z)\n",
    "\n",
    "  def afstand_til_origo(self):\n",
    "    print(\"Afstand til origo\",sqrt(self.x**2+self.y**2+self.z**2),\"\\n\")\n",
    "    return sqrt(self.x**2+self.y**2+self.z**2)\n",
    "\n",
    "\n",
    "\n",
    "class LinjeSegment:\n",
    "    def __init__(self, punkt_1, punkt_2):  # Konstruktør\n",
    "        self.endepunkt_1 = punkt_1\n",
    "        self.endepunkt_2 = punkt_2\n",
    "        self.længde = 0\n",
    "\n",
    "    def endepunkter(self):\n",
    "      print(\"Endepunkter er:\", self.endepunkt_1.x,self.endepunkt_2.y)\n",
    "\n",
    "    def beregn_længde(self):\n",
    "        x_afstand = self.endepunkt_1.x - self.endepunkt_2.x\n",
    "        y_afstand = self.endepunkt_1.y - self.endepunkt_2.y\n",
    "        z_afstand = self.endepunkt_1.z - self.endepunkt_2.z\n",
    "        self.længde = sqrt((x_afstand) ** 2 + (y_afstand) ** 2 + (z_afstand) ** 2)\n",
    "        print(\"Linjens længde er:\", self.længde)\n",
    "#test\n",
    "punkta = Punkt3D(3,4,2)\n",
    "punktb = Punkt3D(2,1,3,\"b\")\n",
    "punktc = Punkt3D(3,2,1,\"c\")\n",
    "ls = LinjeSegment(punkta, punktb)\n",
    "\n",
    "#Printer punkt a)\n",
    "punkta.navn_på_punkter()\n",
    "punkta.udskriv_koordinater()\n",
    "punkta.afstand_til_origo()\n",
    "\n",
    "#Printer punkt b)\n",
    "punktb.navn_på_punkter()\n",
    "punktb.udskriv_koordinater()\n",
    "punktb.afstand_til_origo()\n",
    "\n",
    "#Printer linje\n",
    "ls.endepunkter()\n",
    "ls.beregn_længde()\n"
   ]
  },
  {
   "cell_type": "code",
   "execution_count": 11,
   "metadata": {},
   "outputs": [
    {
     "name": "stdout",
     "output_type": "stream",
     "text": [
      "Sebastians har 28 bogstaver \n",
      "Chris har 26 bogstaver\n"
     ]
    }
   ],
   "source": [
    "navn_seb = \"Sebastian Buchardt vestergaard\"\n",
    "navn_chris = \"Christoffer Grønkjær Thomsen\"\n",
    "navn_seb = navn_seb.replace(\" \",\"\")\n",
    "navn_chris = navn_chris.replace(\" \",\"\")\n",
    "print(\"Sebastians har\",len(navn_seb),\"bogstaver\",\"\\nChris har\",len(navn_chris), \"bogstaver\")"
   ]
  },
  {
   "cell_type": "code",
   "execution_count": null,
   "metadata": {},
   "outputs": [],
   "source": []
  }
 ],
 "metadata": {
  "kernelspec": {
   "display_name": "Python 3.9.12 ('base')",
   "language": "python",
   "name": "python3"
  },
  "language_info": {
   "codemirror_mode": {
    "name": "ipython",
    "version": 3
   },
   "file_extension": ".py",
   "mimetype": "text/x-python",
   "name": "python",
   "nbconvert_exporter": "python",
   "pygments_lexer": "ipython3",
   "version": "3.9.12"
  },
  "orig_nbformat": 4,
  "vscode": {
   "interpreter": {
    "hash": "fb833273add3e7c60eb33c0608260b79a61e072ade6f02cc8d07b0a26eef8ab8"
   }
  }
 },
 "nbformat": 4,
 "nbformat_minor": 2
}
