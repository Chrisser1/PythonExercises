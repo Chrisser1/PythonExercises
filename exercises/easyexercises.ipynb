{
 "cells": [
  {
   "cell_type": "markdown",
   "metadata": {},
   "source": [
    "# Nybegynder øvelser\n",
    "Nedenfor ses en række opgaver til folk, der netop er startet med at programmere i Python. \n",
    "\n",
    "# Opgave 1\n",
    "Skriv et program der printer \"Hej med dig. Jeg elsker at kode\" ud på skærmen."
   ]
  },
  {
   "cell_type": "markdown",
   "metadata": {},
   "source": [
    "# Opgave 2\n",
    "Lav en variable $r$ til at opbevare en cirkels radius og indlæs den med et tal. Skriv noget kode der printer arealet og omkredsen af cirklen"
   ]
  },
  {
   "cell_type": "markdown",
   "metadata": {},
   "source": [
    "# Opgave 3\n",
    "Du kan gemme input fra brugeren i $x$ ved at skrive<br>\n",
    "x=input(\"Skriv dit navn: \")\n",
    "\n",
    "Skriv et program der beder brugeren om at indtaste fornavn og efternavn og bagefter printer den \"Hej \" efterfulgt at hele navnet."
   ]
  },
  {
   "cell_type": "markdown",
   "metadata": {},
   "source": [
    "# Opgave 4\n",
    "Bed brugeren om at indtaste en alder og fortæl brugeren om vedkommende er myndig eller ej (18 eller derover)\n",
    "\n",
    "# Opgave 5\n",
    "Skriv et program, der tager tre variable og undersøger om summen er større end 100<!-- .slide: data-fullscreen -->\n",
    "# Opgave 6\n",
    "Skriv et program der undersøger om et tal er lige eller ulige. Man kan bruge modulo operatoren \"%\" til at undersøge om der er en rest ved division med $2$. F.eks. kunne programmet begynde således:\n",
    "if(x%2==0):"
   ]
  },
  {
   "cell_type": "markdown",
   "metadata": {},
   "source": [
    "# Opgave 7\n",
    "Brug en for-løkke til at skrive tallene 1 til 10 ud på skærmen. \n",
    "\n",
    "# Opgave 8\n",
    "Brug en while-løkke til at skrive de lige tal mellem 1 og 100 ud på skærmen. \n",
    "\n",
    "# Opgave 9\n",
    "Skriv et program til at finde summen af tallene de lige tal fra 1 til 100.  \n",
    "\n",
    "# Opgave 10\n",
    "Skriv et program der undersøger om to variable har samme værdi. \n",
    "\n",
    "# Opgave 11 \n",
    "Skriv et program der udregner løsningen til udtrykket (x+y)*(x-y) hvor du selv sætter x og y til bestemte værdier\n",
    "\n",
    "# Opgave 12 \n",
    "Skriv et program der løser en andengradsligning og finder toppunktet\n",
    "\n",
    "# Opgave 13\n",
    "Skriv et program, der givet længden af to sider i en trekant, finder længden af den tredje. "
   ]
  }
 ],
 "metadata": {
  "kernelspec": {
   "display_name": "Python 3.8.8 ('base')",
   "language": "python",
   "name": "python3"
  },
  "language_info": {
   "name": "python",
   "version": "3.8.8"
  },
  "orig_nbformat": 4,
  "vscode": {
   "interpreter": {
    "hash": "e16fe54ada588f48d83eaedacc60a09bd49e3e9d992d6517dda5bbc2014c48c9"
   }
  }
 },
 "nbformat": 4,
 "nbformat_minor": 2
}
